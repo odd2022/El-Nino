{
 "cells": [
  {
   "cell_type": "code",
   "execution_count": null,
   "metadata": {},
   "outputs": [],
   "source": [
    "#importer X et y\n",
    "#utiliser un modele linéaire\n",
    "#caire une cross val\n",
    "#faire une learning curve"
   ]
  },
  {
   "cell_type": "code",
   "execution_count": null,
   "metadata": {},
   "outputs": [],
   "source": [
    "# re-used Nathan's functions \n",
    "def get_data(Path):\n",
    "    \"\"\"\n",
    "    Path: Path of the preprocessed data you want to get\n",
    "    \"\"\"\n",
    "    data = np.load(Path)\n",
    "    # Get the variables\n",
    "    X = data[\"X\"]\n",
    "    y = data[\"y\"]\n",
    "\n",
    "    # Check dimensions\n",
    "    print('==== GET THE DATA ====')\n",
    "    print(\"Shape of X:\", X.shape)\n",
    "    print(\"Shape of y:\", y.shape)\n",
    "\n",
    "    print(\"First 5 elements of y:\", y[:25])\n",
    "    return(X,y)\n",
    "\n",
    "def split_scale_data(X, y, RANDOM_SPLIT=False, train_size=374):\n",
    "    \"\"\"\n",
    "    X, y: Inputs and outputs\n",
    "    RANDOM_SPLIT: Boolean, if False splits for train and test are done in in time order, if True, splits are random\n",
    "    train_size: number of data in the train sample (test_size=474 - train_size)\n",
    "    \"\"\"\n",
    "    # Split the data\n",
    "    if RANDOM_SPLIT:\n",
    "        X_train, X_test, y_train, y_test = train_test_split(X, y, train_size=train_size, random_state=42)\n",
    "    else:\n",
    "        X_train, X_test, y_train, y_test = X[:train_size], X[train_size:], y[:train_size], y[train_size:]\n",
    "\n",
    "    # Introduce a scaler\n",
    "    scaler = StandardScaler()\n",
    "    scaler.fit(X_train)\n",
    "    # Standardize the train and test data\n",
    "    X_train = scaler.transform(X_train)\n",
    "    X_test = scaler.transform(X_test)\n",
    "\n",
    "    # Check dimensions\n",
    "    print(\"==== SPLIT & SCALE THE DATA ====\")\n",
    "    print(\"Shape of X_train:\", X_train.shape)\n",
    "    print(\"Shape of y_train:\", y_train.shape)\n",
    "    print(\"Shape of X_test:\", X_test.shape)\n",
    "    print(\"Shape of y_test:\", y_test.shape)\n",
    "\n",
    "    return(X_train, X_test, y_train, y_test)"
   ]
  },
  {
   "cell_type": "code",
   "execution_count": null,
   "metadata": {},
   "outputs": [],
   "source": [
    "# Get the data for a 1-month prediction, split and scale the data\n",
    "X, y = get_data(\"data/preprocessed_data/nino_dataset_1m.npz\")\n",
    "X_train, X_test, y_train, y_test= split_scale_data(X, y, RANDOM_SPLIT=False, train_size=374)"
   ]
  }
 ],
 "metadata": {
  "language_info": {
   "name": "python"
  }
 },
 "nbformat": 4,
 "nbformat_minor": 2
}
