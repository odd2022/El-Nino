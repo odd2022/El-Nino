{
 "cells": [
  {
   "cell_type": "code",
   "execution_count": null,
   "metadata": {},
   "outputs": [],
   "source": [
    "#importer X et y\n",
    "#utiliser un modele linéaire\n",
    "#caire une cross val\n",
    "#faire une learning curve"
   ]
  }
 ],
 "metadata": {
  "language_info": {
   "name": "python"
  }
 },
 "nbformat": 4,
 "nbformat_minor": 2
}
