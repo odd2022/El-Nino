{
 "cells": [
  {
   "cell_type": "code",
   "execution_count": null,
   "metadata": {
    "vscode": {
     "languageId": "plaintext"
    }
   },
   "outputs": [],
   "source": [
    "# Let's import the needed packages\n",
    "\n",
    "# To deal with arrays \n",
    "import xarray as xr\n",
    "import pandas as pd \n",
    "pd.options.mode.chained_assignment = None\n",
    "import numpy as np\n",
    "\n",
    "# To plot the Nino 3.4 index\n",
    "import matplotlib.pyplot as plt\n",
    "import matplotlib.patches as patches\n",
    "\n",
    "# To plot the map\n",
    "import cartopy.crs as ccrs\n",
    "import cartopy.feature as cfeature\n",
    "from cartopy.mpl.ticker import LongitudeFormatter, LatitudeFormatter"
   ]
  },
  {
   "cell_type": "code",
   "execution_count": null,
   "metadata": {
    "vscode": {
     "languageId": "plaintext"
    }
   },
   "outputs": [],
   "source": [
    "# Data path\n",
    "mslp_data_path = 'data/mslp_coarse.nc'\n",
    "\n",
    "# Upload the data under a xr array format\n",
    "mslp_ds = xr.open_dataset(mslp_data_path)\n",
    "\n",
    "# To check the data Structure\n",
    "# print(mslp_ds)\n",
    "\n",
    "# To plot the dimensions and attributes of the data \n",
    "#mslp_ds.info()\n",
    "\n",
    "#Let's verify that there is no NaN in our dataset \n",
    "nan_count = np.isnan(mslp_ds).sum()\n",
    "print(f\"Number of NaNs in mslp_ds : {nan_count}\")"
   ]
  }
 ],
 "metadata": {
  "language_info": {
   "name": "python"
  }
 },
 "nbformat": 4,
 "nbformat_minor": 2
}
