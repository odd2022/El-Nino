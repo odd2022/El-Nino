{
 "cells": [
  {
   "cell_type": "code",
   "execution_count": 2,
   "metadata": {},
   "outputs": [],
   "source": [
    "# Let's import the needed packages\n",
    "\n",
    "# To deal with arrays \n",
    "import xarray as xr\n",
    "import pandas as pd \n",
    "pd.options.mode.chained_assignment = None\n",
    "import numpy as np\n",
    "\n",
    "# To plot the Nino 3.4 index\n",
    "import matplotlib.pyplot as plt\n",
    "import matplotlib.patches as patches\n",
    "\n",
    "# To plot the map\n",
    "import cartopy.crs as ccrs\n",
    "import cartopy.feature as cfeature\n",
    "from cartopy.mpl.ticker import LongitudeFormatter, LatitudeFormatter"
   ]
  },
  {
   "cell_type": "code",
   "execution_count": 3,
   "metadata": {},
   "outputs": [
    {
     "name": "stdout",
     "output_type": "stream",
     "text": [
      "Number of NaNs in mslp_ds : <xarray.Dataset> Size: 8B\n",
      "Dimensions:  ()\n",
      "Data variables:\n",
      "    msl      int64 8B 0\n"
     ]
    }
   ],
   "source": [
    "# Data path\n",
    "mslp_data_path = 'data/mslp_coarse.nc'\n",
    "\n",
    "# Upload the data under a xr array format\n",
    "mslp_ds = xr.open_dataset(mslp_data_path)\n",
    "\n",
    "# To check the data Structure\n",
    "# print(mslp_ds)\n",
    "\n",
    "# To plot the dimensions and attributes of the data \n",
    "#mslp_ds.info()\n",
    "\n",
    "#Let's verify that there is no NaN in our dataset \n",
    "nan_count = np.isnan(mslp_ds).sum()\n",
    "print(f\"Number of NaNs in mslp_ds : {nan_count}\")"
   ]
  },
  {
   "cell_type": "code",
   "execution_count": 4,
   "metadata": {},
   "outputs": [],
   "source": [
    "# Now we have to restrict the zone to study and label the El-Nino temperature anomalies\n",
    "# https://www.cpc.ncep.noaa.gov/products/analysis_monitoring/enso_advisory/enso-alert-readme.shtml#:~:text=The%20Climate%20Prediction%20Center%20defines...%20%22El%20Ni%C3%B1o%20conditions%22,Ni%C3%B1o%20Index%20%28ONI%29%20threshold%20will%20be%20met%2C%20AND\n",
    "# Niño 3.4 Zone(5°N-5°S, 170°W-120°W)\n",
    "\n",
    "#Latitudes: convert 5°N-5°S to the format [-90°, 90°] N->S\n",
    "nino_lat_min = -5  \n",
    "nino_lat_max = 5   \n",
    "\n",
    "# Longitudes : convert 170°W and 120°W to the format [0°E, 360°E]\n",
    "# 170°W = 360 - 170 = 190°E\n",
    "# 120°W = 360 - 120 = 240°E\n",
    "nino_lon_min = 190\n",
    "nino_lon_max = 240"
   ]
  }
 ],
 "metadata": {
  "kernelspec": {
   "display_name": "climate",
   "language": "python",
   "name": "python3"
  },
  "language_info": {
   "codemirror_mode": {
    "name": "ipython",
    "version": 3
   },
   "file_extension": ".py",
   "mimetype": "text/x-python",
   "name": "python",
   "nbconvert_exporter": "python",
   "pygments_lexer": "ipython3",
   "version": "3.12.6"
  }
 },
 "nbformat": 4,
 "nbformat_minor": 2
}
