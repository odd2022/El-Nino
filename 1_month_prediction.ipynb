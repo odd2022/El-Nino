{
 "cells": [
  {
   "cell_type": "code",
   "execution_count": 50,
   "metadata": {},
   "outputs": [],
   "source": [
    "# Let's import the needed packages\n",
    "\n",
    "# Find the El Nino peaks in the signal\n",
    "from scipy.signal import find_peaks\n",
    "\n",
    "# To deal with arrays \n",
    "import xarray as xr\n",
    "import pandas as pd \n",
    "pd.options.mode.chained_assignment = None\n",
    "import numpy as np\n",
    "\n",
    "# To plot the Nino 3.4 index\n",
    "import matplotlib.pyplot as plt\n",
    "import matplotlib.patches as patches\n",
    "\n",
    "# To plot the map\n",
    "import cartopy.crs as ccrs\n",
    "import cartopy.feature as cfeature\n",
    "from cartopy.mpl.ticker import LongitudeFormatter, LatitudeFormatter\n",
    "\n",
    "from sklearn.model_selection import train_test_split\n",
    "from sklearn.preprocessing import StandardScaler"
   ]
  },
  {
   "cell_type": "markdown",
   "metadata": {},
   "source": [
    "# 0. Useful functions"
   ]
  },
  {
   "cell_type": "code",
   "execution_count": 54,
   "metadata": {},
   "outputs": [],
   "source": [
    "def get_data(Path):\n",
    "    \"\"\"\n",
    "    Path: Path of the preprocessed data you want to get\n",
    "    \"\"\"\n",
    "    data = np.load(Path)\n",
    "    # Get the variables\n",
    "    X = data[\"X\"]\n",
    "    y = data[\"y\"]\n",
    "\n",
    "    # Check dimensions\n",
    "    print('==== GET THE DATA ====')\n",
    "    print(\"Shape of X:\", X.shape)\n",
    "    print(\"Shape of y:\", y.shape)\n",
    "\n",
    "    print(\"First 5 elements of y:\", y[:25])\n",
    "    return(X,y)\n"
   ]
  },
  {
   "cell_type": "code",
   "execution_count": 55,
   "metadata": {},
   "outputs": [],
   "source": [
    "def split_scale_data(X, y, RANDOM_SPLIT=False, train_size=374):\n",
    "    \"\"\"\n",
    "    X, y: Inputs and outputs\n",
    "    RANDOM_SPLIT: Boolean, if False splits for train and test are done in in time order, if True, splits are random\n",
    "    train_size: number of data in the train sample (test_size=474 - train_size)\n",
    "    \"\"\"\n",
    "    # Split the data\n",
    "    if RANDOM_SPLIT:\n",
    "        X_train, X_test, y_train, y_test = train_test_split(X, y, train_size=train_size, random_state=42)\n",
    "    else:\n",
    "        X_train, X_test, y_train, y_test = X[:train_size], X[train_size:], y[:train_size], y[train_size:]\n",
    "\n",
    "    # Introduce a scaler\n",
    "    scaler = StandardScaler()\n",
    "    scaler.fit(X_train)\n",
    "    # Standardize the train and test data\n",
    "    X_train = scaler.transform(X_train)\n",
    "    X_test = scaler.transform(X_test)\n",
    "\n",
    "    # Check dimensions\n",
    "    print(\"==== SPLIT & SCALE THE DATA ====\")\n",
    "    print(\"Shape of X_train:\", X_train.shape)\n",
    "    print(\"Shape of y_train:\", y_train.shape)\n",
    "    print(\"Shape of X_test:\", X_test.shape)\n",
    "    print(\"Shape of y_test:\", y_test.shape)\n",
    "\n",
    "    return(X_train, X_test, y_train, y_test)\n"
   ]
  },
  {
   "cell_type": "markdown",
   "metadata": {},
   "source": [
    "# 1. One-month prediction"
   ]
  },
  {
   "cell_type": "code",
   "execution_count": 56,
   "metadata": {},
   "outputs": [
    {
     "name": "stdout",
     "output_type": "stream",
     "text": [
      "==== GET THE DATA ====\n",
      "Shape of X: (474, 64800)\n",
      "Shape of y: (474,)\n",
      "First 5 elements of y: [0 0 0 1 1 1 1 1 1 1 1 1 1 1 1 1 1 1 0 0 0 0 0 0 0]\n",
      "==== SPLIT & SCALE THE DATA ====\n",
      "Shape of X_train: (374, 64800)\n",
      "Shape of y_train: (374,)\n",
      "Shape of X_test: (100, 64800)\n",
      "Shape of y_test: (100,)\n"
     ]
    }
   ],
   "source": [
    "# Get the data for a 1-month prediction, split and scale the data\n",
    "X, y = get_data(\"data/preprocessed_data/nino_dataset_1m.npz\")\n",
    "X_train, X_test, y_train, y_test= split_scale_data(X, y, RANDOM_SPLIT=False, train_size=374)"
   ]
  },
  {
   "cell_type": "markdown",
   "metadata": {},
   "source": [
    "The problem here is that we have a small amount of data and the data are in high dimension. \n",
    "**=> High risk of overfitting**\n",
    "\n",
    "Let us try to first simple model so we can have a baseline."
   ]
  },
  {
   "cell_type": "markdown",
   "metadata": {},
   "source": [
    "## 1.1. The baseline"
   ]
  },
  {
   "cell_type": "code",
   "execution_count": 35,
   "metadata": {},
   "outputs": [],
   "source": [
    "from sklearn.discriminant_analysis import LinearDiscriminantAnalysis\n",
    "from sklearn.metrics import roc_auc_score, accuracy_score"
   ]
  },
  {
   "cell_type": "code",
   "execution_count": 40,
   "metadata": {},
   "outputs": [
    {
     "name": "stdout",
     "output_type": "stream",
     "text": [
      "Accuracy for test data: 0.860\n",
      "     AUC for test data: 0.947\n"
     ]
    }
   ],
   "source": [
    "# Define the classifier\n",
    "lda = LinearDiscriminantAnalysis()\n",
    "\n",
    "# Fit the model on the data\n",
    "lda.fit(X_train,y_train)\n",
    "\n",
    "# Get the prediction\n",
    "y_test_pred_lda = lda.predict(X_test)\n",
    "\n",
    "# Computation of the AUC and accuracy\n",
    "roc_auc_score_lda = roc_auc_score(y_test, lda.predict_proba(X_test)[:, 1])\n",
    "accuracy_score_lda = accuracy_score(y_test, y_test_pred_lda)\n",
    "\n",
    "# Print the results\n",
    "print(f\"Accuracy for test data: {accuracy_score_lda:.3f}\")\n",
    "print(f\"     AUC for test data: {roc_auc_score_lda:.3f}\")"
   ]
  },
  {
   "cell_type": "code",
   "execution_count": null,
   "metadata": {},
   "outputs": [],
   "source": []
  }
 ],
 "metadata": {
  "kernelspec": {
   "display_name": "DataScience",
   "language": "python",
   "name": "python3"
  },
  "language_info": {
   "codemirror_mode": {
    "name": "ipython",
    "version": 3
   },
   "file_extension": ".py",
   "mimetype": "text/x-python",
   "name": "python",
   "nbconvert_exporter": "python",
   "pygments_lexer": "ipython3",
   "version": "3.10.13"
  }
 },
 "nbformat": 4,
 "nbformat_minor": 2
}
